{
 "cells": [
  {
   "cell_type": "code",
   "execution_count": 20,
   "id": "95e935e7",
   "metadata": {
    "tags": []
   },
   "outputs": [],
   "source": [
    "import numpy as np\n",
    "import pandas as pd\n",
    "import matplotlib.pyplot as plt\n",
    "import pyreadr\n",
    "import os\n",
    "\n",
    "# MIND functions\n",
    "import sys\n",
    "sys.path.insert(1, '/Users/smithral/Documents/PhD/tools/MIND-master')\n",
    "from MIND import compute_MIND # make sure nibabel is installed\n",
    "from MIND_helpers import get_KL, calculate_mind_network\n",
    "\n",
    "# Ignore warnings\n",
    "import warnings\n",
    "warnings.filterwarnings(\"ignore\")"
   ]
  },
  {
   "cell_type": "markdown",
   "id": "d37c867c",
   "metadata": {},
   "source": [
    "### Loop through all MT subject csvs"
   ]
  },
  {
   "cell_type": "code",
   "execution_count": 46,
   "id": "1914dd15",
   "metadata": {
    "tags": []
   },
   "outputs": [
    {
     "name": "stdout",
     "output_type": "stream",
     "text": [
      "GSK ses-PND300\n"
     ]
    }
   ],
   "source": [
    "# SET UP\n",
    "\n",
    "# set study\n",
    "study = \"GSK\" # \"GSK\" \"MRC\"\n",
    "\n",
    "# set session\n",
    "ses = \"ses-PND300\" # , \"ses-PND020\", \"ses-PND035\", \"ses-PND063\", \"ses-PND300\"\n",
    "\n",
    "# List files in input folder\n",
    "base_dir = \"/Users/smithral/Documents/PhD/projects/CamRat/CamRat/\"\n",
    "input_dir = base_dir + \"data/MIND_files/\" + study + \"_GM/ROI/\" + ses + \"_MT/input/\"\n",
    "input_files = os.listdir(input_dir)\n",
    "subjects = [file.replace('.csv', '') for file in input_files]\n",
    "\n",
    "# Remove DS.Store (if it's there)\n",
    "if '.DS_Store' in subjects: subjects.remove('.DS_Store')\n",
    "\n",
    "print(study + \" \" + ses)"
   ]
  },
  {
   "cell_type": "code",
   "execution_count": 47,
   "id": "e5554f3c",
   "metadata": {
    "tags": []
   },
   "outputs": [
    {
     "name": "stdout",
     "output_type": "stream",
     "text": [
      "calculating sub-EDAA38;  1  of  44\n",
      "calculating sub-EDAA39;  2  of  44\n",
      "calculating sub-EDAA11;  3  of  44\n",
      "calculating sub-EDAA05;  4  of  44\n",
      "calculating sub-EDAA07;  5  of  44\n",
      "calculating sub-EDAA06;  6  of  44\n",
      "calculating sub-EDAA12;  7  of  44\n",
      "calculating sub-EDAA16;  8  of  44\n",
      "calculating sub-EDAA02;  9  of  44\n",
      "calculating sub-EDAA03;  10  of  44\n",
      "calculating sub-EDAA17;  11  of  44\n",
      "calculating sub-EDAA01;  12  of  44\n",
      "calculating sub-EDAA15;  13  of  44\n",
      "calculating sub-EDAA28;  14  of  44\n",
      "calculating sub-EDAA58;  15  of  44\n",
      "calculating sub-EDAA49;  16  of  44\n",
      "calculating sub-EDAA48;  17  of  44\n",
      "calculating sub-EDAA52;  18  of  44\n",
      "calculating sub-EDAA47;  19  of  44\n",
      "calculating sub-EDAA51;  20  of  44\n",
      "calculating sub-EDAA45;  21  of  44\n",
      "calculating sub-EDAA44;  22  of  44\n",
      "calculating sub-EDAA50;  23  of  44\n",
      "calculating sub-EDAA54;  24  of  44\n",
      "calculating sub-EDAA40;  25  of  44\n",
      "calculating sub-EDAA55;  26  of  44\n",
      "calculating sub-EDAA43;  27  of  44\n",
      "calculating sub-EDAA57;  28  of  44\n",
      "calculating sub-EDAA56;  29  of  44\n",
      "calculating sub-EDAA42;  30  of  44\n",
      "calculating sub-EDAA25;  31  of  44\n",
      "calculating sub-EDAA19;  32  of  44\n",
      "calculating sub-EDAA30;  33  of  44\n",
      "calculating sub-EDAA24;  34  of  44\n",
      "calculating sub-EDAA32;  35  of  44\n",
      "calculating sub-EDAA26;  36  of  44\n",
      "calculating sub-EDAA27;  37  of  44\n",
      "calculating sub-EDAA33;  38  of  44\n",
      "calculating sub-EDAA37;  39  of  44\n",
      "calculating sub-EDAA23;  40  of  44\n",
      "calculating sub-EDAA08;  41  of  44\n",
      "calculating sub-EDAA34;  42  of  44\n",
      "calculating sub-EDAA35;  43  of  44\n",
      "calculating sub-EDAA21;  44  of  44\n"
     ]
    }
   ],
   "source": [
    "# RUN MIND ON EACH SUBJECT\n",
    "\n",
    "for i in range(len(subjects)):\n",
    "    \n",
    "    sub = subjects[i]\n",
    "    print(\"calculating \" + sub + \"; \", (i + 1), \" of \", len(subjects) )\n",
    "    \n",
    "    # read csv\n",
    "    input_path = input_dir + sub + \".csv\"\n",
    "    voxel_df = pd.read_csv(input_path)\n",
    "\n",
    "    # get list of regions\n",
    "    regions = voxel_df['Label'].unique()\n",
    "    \n",
    "    # run MIND\n",
    "    rat_mind = calculate_mind_network(voxel_df, ['MT'], regions)\n",
    "    \n",
    "    # save output\n",
    "    output_path = base_dir + \"data/MIND_files/\" + study + \"_GM/ROI/\" + ses + \"_MT/output/\" + sub + \".csv\"\n",
    "    rat_mind.to_csv(output_path, index=False)"
   ]
  }
 ],
 "metadata": {
  "kernelspec": {
   "display_name": "Python 3 (ipykernel)",
   "language": "python",
   "name": "python3"
  },
  "language_info": {
   "codemirror_mode": {
    "name": "ipython",
    "version": 3
   },
   "file_extension": ".py",
   "mimetype": "text/x-python",
   "name": "python",
   "nbconvert_exporter": "python",
   "pygments_lexer": "ipython3",
   "version": "3.11.4"
  }
 },
 "nbformat": 4,
 "nbformat_minor": 5
}
