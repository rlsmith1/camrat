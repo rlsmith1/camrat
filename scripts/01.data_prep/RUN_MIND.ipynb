{
 "cells": [
  {
   "cell_type": "code",
   "execution_count": 1,
   "id": "95e935e7",
   "metadata": {},
   "outputs": [],
   "source": [
    "import numpy as np\n",
    "import pandas as pd\n",
    "import matplotlib.pyplot as plt\n",
    "import pyreadr\n",
    "import os\n",
    "\n",
    "# MIND functions\n",
    "import sys\n",
    "sys.path.insert(1, 'MIND-master')\n",
    "from MIND import compute_MIND\n",
    "from MIND_helpers import get_KL, calculate_mind_network\n",
    "\n",
    "# Ignore warnings\n",
    "import warnings\n",
    "warnings.filterwarnings(\"ignore\")"
   ]
  },
  {
   "cell_type": "markdown",
   "id": "d37c867c",
   "metadata": {},
   "source": [
    "### Loop through all MT subject csvs"
   ]
  },
  {
   "cell_type": "code",
   "execution_count": 20,
   "id": "1914dd15",
   "metadata": {},
   "outputs": [],
   "source": [
    "# set study\n",
    "study = \"JWD\"\n",
    "\n",
    "# set session\n",
    "ses = \"ses-PND020\""
   ]
  },
  {
   "cell_type": "code",
   "execution_count": 21,
   "id": "c5a14ac6",
   "metadata": {},
   "outputs": [],
   "source": [
    "# List files in input folder\n",
    "base_dir = \"~/Documents/PhD/projects/CamRat/CamRat/\"\n",
    "input_dir = base_dir + \"data/MIND_files/\" + study + \"/ROI/\" + ses + \"_MT/input/\"\n",
    "input_files = os.listdir(input_dir)\n",
    "subjects = [file.replace('.csv', '') for file in input_files]"
   ]
  },
  {
   "cell_type": "code",
   "execution_count": 22,
   "id": "b85072c1",
   "metadata": {},
   "outputs": [],
   "source": [
    "if '.DS_Store' in subjects: subjects.remove('.DS_Store')"
   ]
  },
  {
   "cell_type": "code",
   "execution_count": 23,
   "id": "606b28a9",
   "metadata": {},
   "outputs": [
    {
     "data": {
      "text/plain": [
       "46"
      ]
     },
     "execution_count": 23,
     "metadata": {},
     "output_type": "execute_result"
    }
   ],
   "source": [
    "len(subjects)"
   ]
  },
  {
   "cell_type": "code",
   "execution_count": 24,
   "id": "e5554f3c",
   "metadata": {},
   "outputs": [
    {
     "name": "stdout",
     "output_type": "stream",
     "text": [
      "calculating sub-JWD02;  0  of  46\n",
      "calculating sub-JWD16;  1  of  46\n",
      "calculating sub-JWD17;  2  of  46\n",
      "calculating sub-JWD03;  3  of  46\n",
      "calculating sub-JWD15;  4  of  46\n",
      "calculating sub-JWD01;  5  of  46\n",
      "calculating sub-JWD29;  6  of  46\n",
      "calculating sub-JWD28;  7  of  46\n",
      "calculating sub-JWD14;  8  of  46\n",
      "calculating sub-JWD38;  9  of  46\n",
      "calculating sub-JWD05;  10  of  46\n",
      "calculating sub-JWD39;  11  of  46\n",
      "calculating sub-JWD07;  12  of  46\n",
      "calculating sub-JWD13;  13  of  46\n",
      "calculating sub-JWD06;  14  of  46\n",
      "calculating sub-JWD49;  15  of  46\n",
      "calculating sub-JWD48;  16  of  46\n",
      "calculating sub-JWD40;  17  of  46\n",
      "calculating sub-JWD41;  18  of  46\n",
      "calculating sub-JWD43;  19  of  46\n",
      "calculating sub-JWD42;  20  of  46\n",
      "calculating sub-JWD52;  21  of  46\n",
      "calculating sub-JWD46;  22  of  46\n",
      "calculating sub-JWD47;  23  of  46\n",
      "calculating sub-JWD45;  24  of  46\n",
      "calculating sub-JWD51;  25  of  46\n",
      "calculating sub-JWD50;  26  of  46\n",
      "calculating sub-JWD44;  27  of  46\n",
      "calculating sub-JWD23;  28  of  46\n",
      "calculating sub-JWD37;  29  of  46\n",
      "calculating sub-JWD36;  30  of  46\n",
      "calculating sub-JWD22;  31  of  46\n",
      "calculating sub-JWD34;  32  of  46\n",
      "calculating sub-JWD20;  33  of  46\n",
      "calculating sub-JWD21;  34  of  46\n",
      "calculating sub-JWD35;  35  of  46\n",
      "calculating sub-JWD19;  36  of  46\n",
      "calculating sub-JWD31;  37  of  46\n",
      "calculating sub-JWD25;  38  of  46\n",
      "calculating sub-JWD24;  39  of  46\n",
      "calculating sub-JWD30;  40  of  46\n",
      "calculating sub-JWD18;  41  of  46\n",
      "calculating sub-JWD26;  42  of  46\n",
      "calculating sub-JWD32;  43  of  46\n",
      "calculating sub-JWD33;  44  of  46\n",
      "calculating sub-JWD27;  45  of  46\n"
     ]
    }
   ],
   "source": [
    "# RUN MIND ON EACH SUBJECT\n",
    "\n",
    "for i in range(len(subjects)):\n",
    "    \n",
    "    sub = subjects[i]\n",
    "    print(\"calculating \" + sub + \"; \", i, \" of \", len(subjects))\n",
    "    \n",
    "    # read csv\n",
    "    input_path = base_dir + \"data/MIND_files/\" + study + \"/ROI/\" + ses + \"_MT/input/\" + sub + \".csv\"\n",
    "    voxel_df = pd.read_csv(input_path)\n",
    "\n",
    "    # get list of regions\n",
    "    regions = voxel_df['Label'].unique()\n",
    "    \n",
    "    # run MIND\n",
    "    rat_mind = calculate_mind_network(voxel_df, ['MT'], regions)\n",
    "    \n",
    "    # save output\n",
    "    output_path = base_dir + \"data/MIND_files/\" + study + \"/ROI/\" + ses + \"_MT/output/\" + sub + \".csv\"\n",
    "    rat_mind.to_csv(output_path, index=False)"
   ]
  }
 ],
 "metadata": {
  "kernelspec": {
   "display_name": "Python 3 (ipykernel)",
   "language": "python",
   "name": "python3"
  },
  "language_info": {
   "codemirror_mode": {
    "name": "ipython",
    "version": 3
   },
   "file_extension": ".py",
   "mimetype": "text/x-python",
   "name": "python",
   "nbconvert_exporter": "python",
   "pygments_lexer": "ipython3",
   "version": "3.10.9"
  }
 },
 "nbformat": 4,
 "nbformat_minor": 5
}
